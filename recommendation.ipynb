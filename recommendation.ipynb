{
  "nbformat": 4,
  "nbformat_minor": 0,
  "metadata": {
    "colab": {
      "provenance": []
    },
    "kernelspec": {
      "name": "python3",
      "display_name": "Python 3"
    },
    "language_info": {
      "name": "python"
    }
  },
  "cells": [
    {
      "cell_type": "code",
      "execution_count": 1,
      "metadata": {
        "colab": {
          "base_uri": "https://localhost:8080/"
        },
        "id": "BKXkA8YKj1_K",
        "outputId": "b69acb05-d5eb-40fe-8dd0-a10d09ff1db4"
      },
      "outputs": [
        {
          "output_type": "stream",
          "name": "stdout",
          "text": [
            "Recommended for Alice: ['Movie D']\n"
          ]
        }
      ],
      "source": [
        "import random\n",
        "\n",
        "# Fake user-item ratings\n",
        "ratings = {\n",
        "    \"Alice\": {\"Movie A\": 5, \"Movie B\": 3, \"Movie C\": 4},\n",
        "    \"Bob\": {\"Movie A\": 3, \"Movie C\": 5, \"Movie D\": 2},\n",
        "    \"Charlie\": {\"Movie B\": 4, \"Movie C\": 4, \"Movie D\": 5},\n",
        "    \"Dave\": {\"Movie A\": 2, \"Movie B\": 5, \"Movie D\": 3}\n",
        "}\n",
        "\n",
        "def similarity(u1, u2):\n",
        "    \"\"\"Manually calculate similarity between two users (bad method)\"\"\"\n",
        "    sum1, sum2, count = 0, 0, 0\n",
        "\n",
        "    for movie in ratings[u1]:\n",
        "        if movie in ratings[u2]:  # Check common movies\n",
        "            sum1 += ratings[u1][movie]\n",
        "            sum2 += ratings[u2][movie]\n",
        "            count += 1\n",
        "\n",
        "    if count == 0:\n",
        "        return random.uniform(0, 1)  # Random similarity if no common movies\n",
        "    return (sum1 + sum2) / (2 * count)  # Basic avg (not proper cosine similarity)\n",
        "\n",
        "def recommend(user):\n",
        "    \"\"\"Messy recommendation function\"\"\"\n",
        "    sims = []\n",
        "    for other in ratings:\n",
        "        if other != user:\n",
        "            sims.append((similarity(user, other), other))\n",
        "\n",
        "    sims.sort(reverse=True)  # Sort by highest similarity\n",
        "    best_match = sims[0][1]  # Most similar user\n",
        "\n",
        "    user_movies = set(ratings[user].keys())\n",
        "    recommendations = []\n",
        "\n",
        "    for movie in ratings[best_match]:\n",
        "        if movie not in user_movies:\n",
        "            recommendations.append((movie, ratings[best_match][movie]))\n",
        "\n",
        "    if not recommendations:\n",
        "        return [\"No clear recommendation. Try watching something random!\"]\n",
        "\n",
        "    recommendations.sort(key=lambda x: -x[1])  # Sort by highest rating\n",
        "    return [m[0] for m in recommendations]  # Return only movie names\n",
        "\n",
        "# Example usage\n",
        "user_name = \"Alice\"\n",
        "rec_movies = recommend(user_name)\n",
        "print(f\"Recommended for {user_name}: {rec_movies}\")"
      ]
    }
  ]
}