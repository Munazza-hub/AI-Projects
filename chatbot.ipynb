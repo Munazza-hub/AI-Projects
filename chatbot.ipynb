{
  "nbformat": 4,
  "nbformat_minor": 0,
  "metadata": {
    "colab": {
      "provenance": []
    },
    "kernelspec": {
      "name": "python3",
      "display_name": "Python 3"
    },
    "language_info": {
      "name": "python"
    }
  },
  "cells": [
    {
      "cell_type": "code",
      "execution_count": null,
      "metadata": {
        "colab": {
          "base_uri": "https://localhost:8080/"
        },
        "id": "v0Yz6Pg1nA6b",
        "outputId": "f259d168-359d-43ce-cc31-6f9e63ed3033"
      },
      "outputs": [
        {
          "output_type": "stream",
          "name": "stdout",
          "text": [
            "Chatbot: Hi! Type 'exit' to end the conversation.\n",
            "You: who are you\n",
            "Chatbot: I'm a chatbot created to assist you.\n"
          ]
        }
      ],
      "source": [
        "import re\n",
        "\n",
        "# Define a dictionary of responses\n",
        "responses = {\n",
        "    \"greeting\": [\"hello\", \"hi\", \"hey\", \"howdy\"],\n",
        "    \"goodbye\": [\"bye\", \"goodbye\", \"see you\", \"exit\"],\n",
        "    \"name\": [\"what's your name\", \"who are you\", \"tell me your name\"],\n",
        "    \"default\": [\"Sorry, I didn't understand that.\", \"Can you please rephrase?\"]\n",
        "}\n",
        "\n",
        "def chatbot_response(user_input):\n",
        "    \"\"\"\n",
        "    Function to generate a response based on predefined rules.\n",
        "    \"\"\"\n",
        "    # Convert the input to lowercase for easier matching\n",
        "    user_input = user_input.lower()\n",
        "\n",
        "    # Check for specific patterns or words\n",
        "    if any(word in user_input for word in responses[\"greeting\"]):\n",
        "        return \"Hello! How can I assist you today?\"\n",
        "    elif any(word in user_input for word in responses[\"goodbye\"]):\n",
        "        return \"Goodbye! Have a nice day!\"\n",
        "    elif any(word in user_input for word in responses[\"name\"]):\n",
        "        return \"I'm a chatbot created to assist you.\"\n",
        "    else:\n",
        "        return random.choice(responses[\"default\"])\n",
        "\n",
        "# Main function to run the chatbot\n",
        "def run_chatbot():\n",
        "    print(\"Chatbot: Hi! Type 'exit' to end the conversation.\")\n",
        "\n",
        "    while True:\n",
        "        user_input = input(\"You: \")\n",
        "\n",
        "        if \"exit\" in user_input.lower():\n",
        "            print(\"Chatbot: Goodbye!\")\n",
        "            break\n",
        "\n",
        "        response = chatbot_response(user_input)\n",
        "        print(\"Chatbot:\", response)\n",
        "\n",
        "# Run the chatbot\n",
        "run_chatbot()\n"
      ]
    }
  ]
}